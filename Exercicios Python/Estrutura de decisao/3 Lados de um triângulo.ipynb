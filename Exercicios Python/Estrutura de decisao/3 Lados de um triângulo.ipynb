{
 "cells": [
  {
   "cell_type": "code",
   "execution_count": null,
   "metadata": {},
   "outputs": [],
   "source": [
    "#Faça um Programa que peça os 3 lados de um triângulo. O programa deverá informar se os valores podem\n",
    "#ser um triângulo. Indique, caso os lados formem um triângulo, se o mesmo é: equilátero, isósceles ou escaleno.\n",
    "#Dicas:\n",
    "#Três lados formam um triângulo quando a soma de quaisquer dois lados for maior que o terceiro;\n",
    "#Triângulo Equilátero: três lados iguais;\n",
    "#Triângulo Isósceles: quaisquer dois lados iguais;\n",
    "#Triângulo Escaleno: três lados diferentes;\n",
    "\n",
    "lados = input(\"Insira os 3 lados do triângulo, separados por espaço: \")\n",
    "lados = lados.split() \n",
    "#serviu para dividir a string em uma lista de substrings, onde cada substring representa um lado.\n",
    "\n",
    "# Convertendo os valores para números inteiros\n",
    "lado1 = int(lados[0])\n",
    "lado2 = int(lados[1])\n",
    "lado3 = int(lados[2])\n",
    "\n",
    "# Verificando se os lados podem formar um triângulo\n",
    "if lado1 + lado2 > lado3 and lado1 + lado3 > lado2 and lado2 + lado3 > lado1:\n",
    "    if lado1 == lado2 == lado3:\n",
    "        print(\"Triângulo Equilátero\")\n",
    "    elif lado1 == lado2 or lado1 == lado3 or lado2 == lado3:\n",
    "        print(\"Triângulo Isósceles\")\n",
    "    else:\n",
    "        print(\"Triângulo Escaleno\")\n",
    "else:\n",
    "    print(\"Os lados fornecidos não podem formar um triângulo.\")\n"
   ]
  }
 ],
 "metadata": {
  "kernelspec": {
   "display_name": "Python 3",
   "language": "python",
   "name": "python3"
  },
  "language_info": {
   "codemirror_mode": {
    "name": "ipython",
    "version": 3
   },
   "file_extension": ".py",
   "mimetype": "text/x-python",
   "name": "python",
   "nbconvert_exporter": "python",
   "pygments_lexer": "ipython3",
   "version": "3.11.5"
  },
  "orig_nbformat": 4
 },
 "nbformat": 4,
 "nbformat_minor": 2
}
