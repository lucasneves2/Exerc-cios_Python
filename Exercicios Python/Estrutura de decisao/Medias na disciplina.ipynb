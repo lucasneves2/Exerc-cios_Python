{
 "cells": [
  {
   "cell_type": "code",
   "execution_count": null,
   "metadata": {},
   "outputs": [],
   "source": [
    "#Faça um programa que lê as duas notas parciais obtidas por um aluno numa disciplina ao longo de um semestre, \n",
    "#e calcule a sua média. A atribuição de conceitos obedece à tabela abaixo:\n",
    "#  Média de Aproveitamento  Conceito\n",
    "#  Entre 9.0 e 10.0        A\n",
    "#  Entre 7.5 e 9.0         B\n",
    "#  Entre 6.0 e 7.5         C\n",
    "#  Entre 4.0 e 6.0         D\n",
    "#  Entre 4.0 e zero        E\n",
    "#O algoritmo deve mostrar na tela as notas, a média, o conceito correspondente e a mensagem “APROVADO” \n",
    "#se o conceito for A, B ou C ou “REPROVADO” se o conceito for D ou E.\n",
    "\n",
    "nota = float(input(\"Digite a sua nota na disciplina:\"))\n",
    "nota_2 = float(input(\"Digite a sua segunda nota na disciplica:\"))\n",
    "\n",
    "media = (nota + nota_2) / 2\n",
    "\n",
    "if media >= 9.0:\n",
    "    conceito = \"A\"\n",
    "elif media >= 7.5:\n",
    "    conceito = \"B\"\n",
    "elif media >= 6.0:\n",
    "    conceito = \"C\"\n",
    "elif media >= 4.0:\n",
    "    conceito = \"D\"\n",
    "else:\n",
    "    conceito = \"E\"\n",
    "\n",
    "if conceito == \"A\" or conceito == \"B\" or conceito == \"C\":\n",
    "    situacao = \"APROVADO\"\n",
    "else:\n",
    "    situacao = \"REPROVADO\"\n",
    "\n",
    "print(\"A nota do seu primeiro bimestre foi:\", nota)\n",
    "print(\"A nota do seu segundo bimestre foi:\", nota_2)\n",
    "print(\"A média das suas notas foi:\", media)\n",
    "print(\"O conceito correspondente é:\", conceito)\n",
    "print(\"Você está\", situacao)\n",
    "\n"
   ]
  }
 ],
 "metadata": {
  "kernelspec": {
   "display_name": "Python 3",
   "language": "python",
   "name": "python3"
  },
  "language_info": {
   "codemirror_mode": {
    "name": "ipython",
    "version": 3
   },
   "file_extension": ".py",
   "mimetype": "text/x-python",
   "name": "python",
   "nbconvert_exporter": "python",
   "pygments_lexer": "ipython3",
   "version": "3.11.5"
  },
  "orig_nbformat": 4
 },
 "nbformat": 4,
 "nbformat_minor": 2
}
