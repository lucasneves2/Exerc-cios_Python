{
 "cells": [
  {
   "cell_type": "code",
   "execution_count": null,
   "metadata": {},
   "outputs": [],
   "source": [
    "#Faça um Programa que leia três números e mostre o maior e o menor deles.\n",
    "\n",
    "numero_1 = float(input(\"Digite o primeiro número: \"))\n",
    "numero_2 = float(input(\"Digite o segundo número: \"))\n",
    "numero_3 = float(input(\"Digite o terceiro número: \"))\n",
    "\n",
    "maior_numero = max(numero_1, numero_2, numero_3)\n",
    "menor_numero = min(numero_1, numero_2, numero_3)\n",
    "\n",
    "if numero_1 == numero_2 == numero_3:\n",
    "    print(\"Os números são iguais\")\n",
    "else:\n",
    "    print(\"O menor número digitado foi:\", menor_numero)\n",
    "    print(\"O maior número digitado foi:\", maior_numero)"
   ]
  }
 ],
 "metadata": {
  "kernelspec": {
   "display_name": "Python 3",
   "language": "python",
   "name": "python3"
  },
  "language_info": {
   "codemirror_mode": {
    "name": "ipython",
    "version": 3
   },
   "file_extension": ".py",
   "mimetype": "text/x-python",
   "name": "python",
   "nbconvert_exporter": "python",
   "pygments_lexer": "ipython3",
   "version": "3.11.4"
  },
  "orig_nbformat": 4
 },
 "nbformat": 4,
 "nbformat_minor": 2
}
