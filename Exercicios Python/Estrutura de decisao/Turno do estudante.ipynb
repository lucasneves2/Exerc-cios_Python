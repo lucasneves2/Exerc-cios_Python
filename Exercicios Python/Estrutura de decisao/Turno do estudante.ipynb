{
 "cells": [
  {
   "cell_type": "code",
   "execution_count": null,
   "metadata": {},
   "outputs": [],
   "source": [
    "#Faça um Programa que pergunte em que turno você estuda. \n",
    "#Peça para digitar M-matutino ou V-Vespertino ou N- Noturno.\n",
    "# Imprima a mensagem \"Bom Dia!\", \"Boa Tarde!\" ou \"Boa Noite!\" ou \"Valor Inválido!\", conforme o caso.\n",
    "\n",
    "turno = input(\"Em qual turno você estuda? \")\n",
    "\n",
    "if turno == \"M\" or turno == \"m\":\n",
    "    print(\"Bom Dia!\")\n",
    "elif turno == \"V\" or turno == \"v\":\n",
    "    print(\"Boa Tarde!\")\n",
    "elif turno == \"N\" or turno == \"n\":\n",
    "    print(\"Boa noite\")\n",
    "else:\n",
    "    print(\"Você não tem um turno definido\")                \n"
   ]
  }
 ],
 "metadata": {
  "kernelspec": {
   "display_name": "Python 3",
   "language": "python",
   "name": "python3"
  },
  "language_info": {
   "name": "python",
   "version": "3.11.4"
  },
  "orig_nbformat": 4
 },
 "nbformat": 4,
 "nbformat_minor": 2
}
