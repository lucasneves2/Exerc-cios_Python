{
 "cells": [
  {
   "cell_type": "code",
   "execution_count": null,
   "metadata": {},
   "outputs": [],
   "source": [
    "#Faça um Programa que peça um valor e mostre na tela se o valor é positivo ou negativo.\n",
    "\n",
    "valor = float(input(\"Digite um valor\"))\n",
    "\n",
    "if valor >= 0:\n",
    "    print(\"O valor e positivo\")\n",
    "else:\n",
    "    print(\"Valor e negativo\")\n"
   ]
  }
 ],
 "metadata": {
  "kernelspec": {
   "display_name": "Python 3",
   "language": "python",
   "name": "python3"
  },
  "language_info": {
   "codemirror_mode": {
    "name": "ipython",
    "version": 3
   },
   "file_extension": ".py",
   "mimetype": "text/x-python",
   "name": "python",
   "nbconvert_exporter": "python",
   "pygments_lexer": "ipython3",
   "version": "3.11.4"
  },
  "orig_nbformat": 4
 },
 "nbformat": 4,
 "nbformat_minor": 2
}
