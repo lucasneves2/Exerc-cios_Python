{
 "cells": [
  {
   "cell_type": "code",
   "execution_count": null,
   "metadata": {},
   "outputs": [],
   "source": [
    "#As Organizações Tabajara resolveram dar um aumento de salário aos seus colaboradores \n",
    "# e lhe contraram para desenvolver o programa que calculará os reajustes.\n",
    "#Faça um programa que recebe o salário de um colaborador e o reajuste segundo o seguinte critério, \n",
    "#baseado no salário atual:\n",
    "#salários até R$ 280,00 (incluindo) : aumento de 20%\n",
    "#salários entre R$ 280,00 e R$ 700,00 : aumento de 15%\n",
    "#salários entre R$ 700,00 e R$ 1500,00 : aumento de 10%\n",
    "#salários de R$ 1500,00 em diante : aumento de 5% Após o aumento ser realizado, informe na tela:\n",
    "#o salário antes do reajuste;\n",
    "#o percentual de aumento aplicado;\n",
    "#o valor do aumento;\n",
    "#o novo salário, após o aumento.\n",
    "\n",
    "salario = float(input(\"Digite o seu salario\"))\n",
    "\n",
    "if salario <= 200:\n",
    "    percentual_aumento = 20\n",
    "elif salario <= 700:\n",
    "    percentual_aumento = 15\n",
    "elif salario <= 1500:\n",
    "    percentual_aumento = 10\n",
    "else:\n",
    "    percentual_aumento = 5\n",
    "\n",
    "aumento = salario * (percentual_aumento / 100)\n",
    "novo_salario = salario + aumento\n",
    "\n",
    "print(\"Salário antes do reajuste:\", salario)\n",
    "print(\"Percentual de aumento aplicado:\", percentual_aumento, \"%\")\n",
    "print(\"Valor do aumento:\", aumento)\n",
    "print(\"Novo salário após o aumento:\", novo_salario)\n",
    "\n",
    "\n"
   ]
  }
 ],
 "metadata": {
  "kernelspec": {
   "display_name": "Python 3",
   "language": "python",
   "name": "python3"
  },
  "language_info": {
   "codemirror_mode": {
    "name": "ipython",
    "version": 3
   },
   "file_extension": ".py",
   "mimetype": "text/x-python",
   "name": "python",
   "nbconvert_exporter": "python",
   "pygments_lexer": "ipython3",
   "version": "3.11.4"
  },
  "orig_nbformat": 4
 },
 "nbformat": 4,
 "nbformat_minor": 2
}
