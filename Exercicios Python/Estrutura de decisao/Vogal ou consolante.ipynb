{
 "cells": [
  {
   "cell_type": "code",
   "execution_count": null,
   "metadata": {},
   "outputs": [],
   "source": [
    "#Faça um Programa que verifique se uma letra digitada é vogal ou consoante.\n",
    "\n",
    "alfabeto = input(\"Digite uma letra do alfabeto\")\n",
    "\n",
    "if alfabeto.lower() == \"a\" or alfabeto == \"e\" or alfabeto == \"i\" or alfabeto == \"o\" or alfabeto == \"u\":\n",
    "    print(\"A letra digitada e uma vogal\")\n",
    "else:\n",
    "    print(\"A letra digitada e uma consolante\")\n",
    "\n",
    "#A função lower é usado para converter a entrada em minúsculas."
   ]
  },
  {
   "cell_type": "code",
   "execution_count": null,
   "metadata": {},
   "outputs": [],
   "source": [
    "alfabeto = input(\"Digite uma letra do alfabeto: \")\n",
    "\n",
    "if alfabeto.lower() in ['a', 'e', 'i', 'o', 'u']:\n",
    "    print(\"A letra digitada é uma vogal.\")\n",
    "else:\n",
    "    print(\"A letra digitada é uma consoante.\")\n"
   ]
  }
 ],
 "metadata": {
  "kernelspec": {
   "display_name": "Python 3",
   "language": "python",
   "name": "python3"
  },
  "language_info": {
   "codemirror_mode": {
    "name": "ipython",
    "version": 3
   },
   "file_extension": ".py",
   "mimetype": "text/x-python",
   "name": "python",
   "nbconvert_exporter": "python",
   "pygments_lexer": "ipython3",
   "version": "3.11.4"
  },
  "orig_nbformat": 4
 },
 "nbformat": 4,
 "nbformat_minor": 2
}
