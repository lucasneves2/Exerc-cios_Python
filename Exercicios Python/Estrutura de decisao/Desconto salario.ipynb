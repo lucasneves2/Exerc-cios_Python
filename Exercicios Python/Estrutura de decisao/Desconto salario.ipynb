{
 "cells": [
  {
   "cell_type": "code",
   "execution_count": null,
   "metadata": {},
   "outputs": [],
   "source": [
    "#Faça um programa para o cálculo de uma folha de pagamento, \n",
    "#sabendo que os descontos são do Imposto de Renda, que depende do salário bruto \n",
    "#(conforme tabela abaixo) e 3% para o Sindicato e que o FGTS corresponde a 11% do Salário Bruto, \n",
    "#mas não é descontado (é a empresa que deposita). O Salário Líquido corresponde ao Salário Bruto \n",
    "#menos os descontos. O programa deverá pedir ao usuário o valor da sua hora e a quantidade de horas trabalhadas \n",
    "#no mês.\n",
    "#Desconto do IR:\n",
    "#Salário Bruto até 900 (inclusive) - isento\n",
    "#Salário Bruto até 1500 (inclusive) - desconto de 5%\n",
    "#Salário Bruto até 2500 (inclusive) - desconto de 10%\n",
    "#Salário Bruto acima de 2500 - desconto de 20% Imprima na tela as informações, dispostas conforme o exemplo abaixo. No exemplo o valor da hora é 5 e a quantidade de hora é 220.\n",
    "#        Salário Bruto: (5 * 220)        : R$ 1100,00\n",
    "#        (-) IR (5%)                     : R$   55,00  \n",
    "#        (-) INSS ( 10%)                 : R$  110,00\n",
    "#        FGTS (11%)                      : R$  121,00\n",
    "#        Total de descontos              : R$  165,00\n",
    "#        Salário Liquido                 : R$  935,00\n",
    "\n",
    "valor_hora = float(input(\"Quanto você ganha por hora?\"))\n",
    "quantidade_hora = float(input(\"Quantas horas você trabalha no mês?\"))\n",
    "\n",
    "salario_bruto = valor_hora * quantidade_hora\n",
    "ir_desconto = 0\n",
    "\n",
    "if salario_bruto <= 900:\n",
    "    ir_desconto = 0\n",
    "elif salario_bruto <= 1500:\n",
    "    ir_desconto = salario_bruto * 0.05\n",
    "elif salario_bruto <= 2500:\n",
    "    ir_desconto = salario_bruto * 0.1\n",
    "else:\n",
    "    ir_desconto = salario_bruto * 0.2\n",
    "\n",
    "sindicato_desconto = salario_bruto * 0.03\n",
    "fgts_deposito = salario_bruto * 0.11\n",
    "\n",
    "total_descontos = ir_desconto + sindicato_desconto\n",
    "salario_liquido = salario_bruto - total_descontos\n",
    "\n",
    "print(\"Salário Bruto: R$\", valor_hora, quantidade_hora, salario_bruto)\n",
    "print(\"(-) IR: R$\", ir_desconto / salario_bruto * 100, ir_desconto)\n",
    "print(\"(-) INSS (10%): R$\", sindicato_desconto)\n",
    "print(\"FGTS (11%): R$\", fgts_deposito)\n",
    "print(\"Total de descontos: R$\", total_descontos)\n",
    "print(\"Salário Líquido: R$\", salario_liquido)\n",
    "\n"
   ]
  }
 ],
 "metadata": {
  "kernelspec": {
   "display_name": "Python 3",
   "language": "python",
   "name": "python3"
  },
  "language_info": {
   "codemirror_mode": {
    "name": "ipython",
    "version": 3
   },
   "file_extension": ".py",
   "mimetype": "text/x-python",
   "name": "python",
   "nbconvert_exporter": "python",
   "pygments_lexer": "ipython3",
   "version": "3.11.5"
  },
  "orig_nbformat": 4
 },
 "nbformat": 4,
 "nbformat_minor": 2
}
