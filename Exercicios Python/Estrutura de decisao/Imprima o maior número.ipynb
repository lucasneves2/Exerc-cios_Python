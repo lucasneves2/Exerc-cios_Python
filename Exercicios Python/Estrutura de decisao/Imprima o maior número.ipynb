{
 "cells": [
  {
   "cell_type": "code",
   "execution_count": null,
   "metadata": {},
   "outputs": [],
   "source": [
    "#Faça um Programa que peça dois números e imprima o maior deles.\n",
    "\n",
    "numero_1 = float(input(\"Digite o primeiro número: \"))\n",
    "numero_2 = float(input(\"Digite o segundo número: \"))\n",
    "\n",
    "if numero_1 > numero_2:\n",
    "    print(\"O primeiro número é maior.\")\n",
    "elif numero_2 > numero_1:\n",
    "    print(\"O segundo número é maior.\")\n",
    "else:\n",
    "    print(\"Os números são iguais.\")"
   ]
  }
 ],
 "metadata": {
  "kernelspec": {
   "display_name": "Python 3",
   "language": "python",
   "name": "python3"
  },
  "language_info": {
   "codemirror_mode": {
    "name": "ipython",
    "version": 3
   },
   "file_extension": ".py",
   "mimetype": "text/x-python",
   "name": "python",
   "nbconvert_exporter": "python",
   "pygments_lexer": "ipython3",
   "version": "3.11.4"
  },
  "orig_nbformat": 4
 },
 "nbformat": 4,
 "nbformat_minor": 2
}
