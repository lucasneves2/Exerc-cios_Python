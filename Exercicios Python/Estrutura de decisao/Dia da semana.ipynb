{
 "cells": [
  {
   "cell_type": "code",
   "execution_count": null,
   "metadata": {},
   "outputs": [],
   "source": [
    "#Faça um Programa que leia um número e exiba o dia correspondente da semana. \n",
    "#(1-Domingo, 2- Segunda, etc.), se digitar outro valor deve aparecer valor inválido.\n",
    "\n",
    "numero = int(input(\"Digite um número (1 a 7): \"))\n",
    "\n",
    "if numero == 1:\n",
    "    dia_semana = \"Domingo\"\n",
    "elif numero == 2:\n",
    "    dia_semana = \"Segunda-feira\"\n",
    "elif numero == 3:\n",
    "    dia_semana = \"Terça-feira\"\n",
    "elif numero == 4:\n",
    "    dia_semana = \"Quarta-feira\"\n",
    "elif numero == 5:\n",
    "    dia_semana = \"Quinta-feira\"\n",
    "elif numero == 6:\n",
    "    dia_semana = \"Sexta-feira\"\n",
    "elif numero == 7:\n",
    "    dia_semana = \"Sábado\"\n",
    "else:\n",
    "    dia_semana = \"Valor inválido\"\n",
    "\n",
    "print(\"O dia correspondente da semana é:\", dia_semana)\n",
    "\n"
   ]
  }
 ],
 "metadata": {
  "kernelspec": {
   "display_name": "Python 3",
   "language": "python",
   "name": "python3"
  },
  "language_info": {
   "codemirror_mode": {
    "name": "ipython",
    "version": 3
   },
   "file_extension": ".py",
   "mimetype": "text/x-python",
   "name": "python",
   "nbconvert_exporter": "python",
   "pygments_lexer": "ipython3",
   "version": "3.11.5"
  },
  "orig_nbformat": 4
 },
 "nbformat": 4,
 "nbformat_minor": 2
}
