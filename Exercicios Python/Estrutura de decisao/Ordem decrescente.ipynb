{
 "cells": [
  {
   "cell_type": "code",
   "execution_count": null,
   "metadata": {},
   "outputs": [],
   "source": [
    "#Faça um Programa que leia três números e mostre-os em ordem decrescente.\n",
    "\n",
    "numero_1 = float(input(\"Digite o primeiro número: \"))\n",
    "numero_2 = float(input(\"Digite o segundo número: \"))\n",
    "numero_3 = float(input(\"Digite o terceiro número: \"))\n",
    "\n",
    "numeros_ordem_decrescete = sorted((numero_1, numero_2, numero_3), reverse=True)\n",
    "\n",
    "print(\"Números em ordem decrescente\", numeros_ordem_decrescete)\n",
    "\n"
   ]
  }
 ],
 "metadata": {
  "kernelspec": {
   "display_name": "Python 3",
   "language": "python",
   "name": "python3"
  },
  "language_info": {
   "codemirror_mode": {
    "name": "ipython",
    "version": 3
   },
   "file_extension": ".py",
   "mimetype": "text/x-python",
   "name": "python",
   "nbconvert_exporter": "python",
   "pygments_lexer": "ipython3",
   "version": "3.11.4"
  },
  "orig_nbformat": 4
 },
 "nbformat": 4,
 "nbformat_minor": 2
}
