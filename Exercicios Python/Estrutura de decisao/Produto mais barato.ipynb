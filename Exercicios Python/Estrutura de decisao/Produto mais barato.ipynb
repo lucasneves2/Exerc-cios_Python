{
 "cells": [
  {
   "cell_type": "code",
   "execution_count": null,
   "metadata": {},
   "outputs": [],
   "source": [
    "#Faça um programa que pergunte o preço de três produtos e informe qual produto você deve comprar,\n",
    "#sabendo que a decisão é sempre pelo mais barato.\n",
    "\n",
    "preco_produto_1 = float(input(\"Digite o preço do primeiro produto: \"))\n",
    "preco_produto_2 = float(input(\"Digite o preço do segundo produto: \"))\n",
    "preco_produto_3 = float(input(\"Digite o preço do terceiro produto: \"))\n",
    "\n",
    "menor_preco = min(preco_produto_1, preco_produto_2, preco_produto_3)\n",
    "\n",
    "if preco_produto_1 == preco_produto_2 == preco_produto_3:\n",
    "    print(\"Você pode comprar qualquer um desses produtos\")\n",
    "else:\n",
    "    print(\"O produto mais barato é:\", menor_preco)\n",
    "    "
   ]
  }
 ],
 "metadata": {
  "kernelspec": {
   "display_name": "Python 3",
   "language": "python",
   "name": "python3"
  },
  "language_info": {
   "codemirror_mode": {
    "name": "ipython",
    "version": 3
   },
   "file_extension": ".py",
   "mimetype": "text/x-python",
   "name": "python",
   "nbconvert_exporter": "python",
   "pygments_lexer": "ipython3",
   "version": "3.11.4"
  },
  "orig_nbformat": 4
 },
 "nbformat": 4,
 "nbformat_minor": 2
}
