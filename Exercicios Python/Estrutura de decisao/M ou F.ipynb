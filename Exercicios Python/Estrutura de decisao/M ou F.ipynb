{
 "cells": [
  {
   "cell_type": "code",
   "execution_count": null,
   "metadata": {},
   "outputs": [],
   "source": [
    "#Faça um Programa que verifique se uma letra digitada é \"F\" ou \"M\". \n",
    "#Conforme a letra escrever: F - Feminino, M - Masculino, Sexo Inválido.\n",
    "\n",
    "sexo = input(\"Digite o seu sexo\")\n",
    "\n",
    "if sexo == \"M\" or sexo == \"m\":\n",
    "    print(\"Você é do sexo masculino\")\n",
    "elif sexo == \"F\"\" or sexo == \"f\"\":\n",
    "    print(\"Você é do sexo feminino\") \n",
    "else:\n",
    "    print(\"Sexo Inválido\")   "
   ]
  }
 ],
 "metadata": {
  "kernelspec": {
   "display_name": "Python 3",
   "language": "python",
   "name": "python3"
  },
  "language_info": {
   "codemirror_mode": {
    "name": "ipython",
    "version": 3
   },
   "file_extension": ".py",
   "mimetype": "text/x-python",
   "name": "python",
   "nbconvert_exporter": "python",
   "pygments_lexer": "ipython3",
   "version": "3.11.4"
  },
  "orig_nbformat": 4
 },
 "nbformat": 4,
 "nbformat_minor": 2
}
