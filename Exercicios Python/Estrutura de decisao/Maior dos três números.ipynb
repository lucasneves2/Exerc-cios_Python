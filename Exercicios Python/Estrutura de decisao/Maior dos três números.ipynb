{
 "cells": [
  {
   "cell_type": "code",
   "execution_count": null,
   "metadata": {},
   "outputs": [],
   "source": [
    "#Faça um Programa que leia três números e mostre o maior deles.\n",
    "\n",
    "numero_1 = float(input(\"Digite o primeiro número: \"))\n",
    "numero_2 = float(input(\"Digite o segundo número: \"))\n",
    "numero_3 = float(input(\"Digite o terceiro número: \"))\n",
    "\n",
    "if numero_1 > numero_2 and numero_1 > numero_3:\n",
    "    print(\"O primeiro número digitado e o maior\", numero_1)\n",
    "elif numero_2 > numero_1 and numero_2 > numero_3:\n",
    "    print(\"O segundo número digitado e o maior\", numero_2)\n",
    "elif numero_3 > numero_1 and numero_3 > numero_2:\n",
    "    print(\"O terceiro número digitado e o maior\", numero_3)\n",
    "else:\n",
    "    print(\"Os números são iguais\")    \n",
    "\n"
   ]
  },
  {
   "cell_type": "code",
   "execution_count": null,
   "metadata": {},
   "outputs": [],
   "source": [
    "numero_1 = float(input(\"Digite o primeiro número: \"))\n",
    "numero_2 = float(input(\"Digite o segundo número: \"))\n",
    "numero_3 = float(input(\"Digite o terceiro número: \"))\n",
    "\n",
    "maior_numero = max(numero_1, numero_2, numero_3)\n",
    "\n",
    "if numero_1 == numero_2 == numero_3:\n",
    "    print(\"Os números são iguais\")\n",
    "else:\n",
    "    print(f\"O maior número digitado é {maior_numero}\")\n"
   ]
  }
 ],
 "metadata": {
  "kernelspec": {
   "display_name": "Python 3",
   "language": "python",
   "name": "python3"
  },
  "language_info": {
   "codemirror_mode": {
    "name": "ipython",
    "version": 3
   },
   "file_extension": ".py",
   "mimetype": "text/x-python",
   "name": "python",
   "nbconvert_exporter": "python",
   "pygments_lexer": "ipython3",
   "version": "3.11.4"
  },
  "orig_nbformat": 4
 },
 "nbformat": 4,
 "nbformat_minor": 2
}
